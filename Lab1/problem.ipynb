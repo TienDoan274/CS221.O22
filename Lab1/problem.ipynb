{
 "cells": [
  {
   "cell_type": "code",
   "execution_count": 1,
   "metadata": {
    "colab": {
     "base_uri": "https://localhost:8080/"
    },
    "executionInfo": {
     "elapsed": 2861,
     "status": "ok",
     "timestamp": 1711068360943,
     "user": {
      "displayName": "Nguyễn Đức Vũ",
      "userId": "07288779277842550568"
     },
     "user_tz": -420
    },
    "id": "rkTGHjwuJBMy",
    "outputId": "2522d21c-a9b8-45be-aca1-e0787cae0bf2"
   },
   "outputs": [
    {
     "name": "stderr",
     "output_type": "stream",
     "text": [
      "[nltk_data] Downloading package punkt to C:\\Users\\TIEN\n",
      "[nltk_data]     DOAN\\AppData\\Roaming\\nltk_data...\n",
      "[nltk_data]   Package punkt is already up-to-date!\n"
     ]
    }
   ],
   "source": [
    "from typing import List, Tuple, Dict\n",
    "import numpy as np\n",
    "import nltk\n",
    "from nltk.tokenize import word_tokenize\n",
    "from collections import Counter\n",
    "\n",
    "# Ensure necessary NLTK tokenizer models are available\n",
    "nltk.download(\"punkt\")\n",
    "\n",
    "class Tokenizer:\n",
    "    def __init__(self, tokenize_type: str = \"basic\", lowercase: bool = False):\n",
    "        self.lowercase = lowercase\n",
    "        self.type = tokenize_type\n",
    "        self.vocab = []  # Empty vocabulary list\n",
    "\n",
    "    def basicTokenize(self, string: str) -> List[str]:\n",
    "        # Tokenizes input string by splitting on whitespace\n",
    "        ### BEGIN SOLUTION\n",
    "        return string.split(' ')\n",
    "        ### END SOLUTION\n",
    "\n",
    "    def nltkTokenize(self, string: str) -> List[str]:\n",
    "        # Tokenizes input string using NLTK's word tokenizer\n",
    "        ### BEGIN SOLUTION\n",
    "        return word_tokenize(string)\n",
    "        ### END SOLUTION\n",
    "\n",
    "    def tokenize(self, string: str) -> List[str]:\n",
    "        # Tokenizes string and updates vocabulary with unique words\n",
    "        if self.lowercase:\n",
    "            string = string.lower()\n",
    "        tokens = self.basicTokenize(string) if self.type == \"basic\" else self.nltkTokenize(string)\n",
    "        self.vocab += [w for w in set(tokens) if w not in self.vocab]\n",
    "        return tokens\n",
    "\n",
    "    def countTopWords(self, words: List[str], k: int) -> List[Tuple[str, int]]:\n",
    "        # Returns the top k most common words\n",
    "        ### END SOLUTION\n",
    "        return Counter(words).most_common(k)\n",
    "        ### END SOLUTION\n",
    "\n",
    "class BiGramLanguageModel:\n",
    "    def __init__(self, vocab: List[str], smoothing: str = None, smoothing_param: float = None):\n",
    "        self.vocab = vocab\n",
    "        self.token_to_idx = {word: i for i, word in enumerate(vocab)}\n",
    "        self.smoothing = smoothing\n",
    "        self.smoothing_param = smoothing_param\n",
    "        self.bi_counts = None\n",
    "        self.bi_prob = None\n",
    "        assert smoothing is None or smoothing_param is not None, \"Smoothing parameters must be set correctly.\"\n",
    "\n",
    "    def computeBigramProb(self):\n",
    "        # Computes bigram probabilities without smoothing\n",
    "        self.bi_prob = self.bi_counts.copy()\n",
    "        for i in range(len(self.bi_prob)):\n",
    "            cnt = np.sum(self.bi_prob[i])\n",
    "            if cnt > 0:\n",
    "                self.bi_prob[i] /= cnt\n",
    "\n",
    "    def computeBigramProbAddAlpha(self, alpha: float = 0.001):\n",
    "        # Computes bigram probabilities using add-alpha smoothing\n",
    "        ### BEGIN SOLUTION\n",
    "        self.bi_prob = self.bi_counts.copy()\n",
    "        for i in range(len(self.bi_prob)):\n",
    "            cnt = np.sum(self.bi_prob[i])\n",
    "            self.bi_prob[i] =(self.bi_prob[i] + alpha) / (cnt +  len(self.vocab)*alpha) \n",
    "        \n",
    "        \n",
    "        ### END SOLUTION\n",
    "\n",
    "    def train(self, corpus: List[str]):\n",
    "        # Trains the model on the given corpus\n",
    "        self.bi_counts = np.zeros((len(self.vocab), len(self.vocab)), dtype=float)\n",
    "        corpus_indices = [self.token_to_idx[w] for w in corpus]\n",
    "        for i in range(len(corpus_indices) - 1):\n",
    "            self.bi_counts[corpus_indices[i]][corpus_indices[i + 1]] += 1\n",
    "        if self.smoothing == \"addAlpha\":\n",
    "            self.computeBigramProbAddAlpha(self.smoothing_param)\n",
    "        else:\n",
    "            self.computeBigramProb()\n",
    "\n",
    "    def test(self, corpus: List[str]) -> float:\n",
    "        # Calculates and returns the perplexity of the model on the given corpus\n",
    "        logprob = 0.0\n",
    "        corpus_indices = [self.token_to_idx[w] for w in corpus]\n",
    "        for i in range(len(corpus_indices) - 1):\n",
    "            logprob += np.log(self.bi_prob[corpus_indices[i], corpus_indices[i + 1]])\n",
    "        logprob /= len(corpus_indices) - 1\n",
    "        return np.exp(-logprob)\n",
    "\n",
    "def readCorpus(filename: str, tokenizer: Tokenizer) -> List[str]:\n",
    "    # Reads and tokenizes the corpus from a file\n",
    "    ### BEGIN SOLUTION\n",
    "    with open(filename,'r') as f:\n",
    "        text = f.read()\n",
    "    tokens = tokenizer.tokenize(text)\n",
    "    return tokens\n",
    "    ### END SOLUTION\n",
    "\n",
    "def runLanguageModel(train_corpus: List[str], val_corpus: List[str], tokenizer: Tokenizer, smoothing_type: str = None, smoothing_param: float = 0.0) -> Dict[str, float]:\n",
    "    # Trains and tests the language model, returning key metrics\n",
    "    lm = BiGramLanguageModel(tokenizer.vocab, smoothing=smoothing_type, smoothing_param=smoothing_param)\n",
    "    lm.train(train_corpus)\n",
    "    return {\"train_ppl\": lm.test(train_corpus), \"val_ppl\": lm.test(val_corpus)}"
   ]
  },
  {
   "cell_type": "code",
   "execution_count": 2,
   "metadata": {
    "executionInfo": {
     "elapsed": 7,
     "status": "ok",
     "timestamp": 1711068360944,
     "user": {
      "displayName": "Nguyễn Đức Vũ",
      "userId": "07288779277842550568"
     },
     "user_tz": -420
    },
    "id": "hnG3_6_dJ13u"
   },
   "outputs": [],
   "source": [
    "# Initialize tokenizers with basic and NLTK options, both set to lowercase.\n",
    "basic_tokenizer = Tokenizer(tokenize_type='basic', lowercase=True)\n",
    "nltk_tokenizer = Tokenizer(tokenize_type='nltk', lowercase=True)"
   ]
  },
  {
   "cell_type": "code",
   "execution_count": 3,
   "metadata": {
    "executionInfo": {
     "elapsed": 13437,
     "status": "ok",
     "timestamp": 1711068374376,
     "user": {
      "displayName": "Nguyễn Đức Vũ",
      "userId": "07288779277842550568"
     },
     "user_tz": -420
    },
    "id": "7iqgIRBmJ4M2"
   },
   "outputs": [],
   "source": [
    "# Read and tokenize the training and validation corpora using the basic tokenizer.\n",
    "train_corpus = readCorpus('./data/train.txt', basic_tokenizer)\n",
    "val_corpus = readCorpus('./data/val.txt', basic_tokenizer)\n",
    "\n",
    "# Example of using the NLTK tokenizer for comparison (unused in final results).\n",
    "train_corpus_nltk = readCorpus('./data/train.txt', nltk_tokenizer)\n",
    "val_corpus_nltk = readCorpus('./data/val.txt', nltk_tokenizer)"
   ]
  },
  {
   "cell_type": "code",
   "execution_count": 4,
   "metadata": {
    "colab": {
     "base_uri": "https://localhost:8080/"
    },
    "executionInfo": {
     "elapsed": 25,
     "status": "ok",
     "timestamp": 1711068374377,
     "user": {
      "displayName": "Nguyễn Đức Vũ",
      "userId": "07288779277842550568"
     },
     "user_tz": -420
    },
    "id": "Ev9y93YKL3ZH",
    "outputId": "43c9c3da-7271-42e9-fb8c-03f6b05709db"
   },
   "outputs": [
    {
     "data": {
      "text/plain": [
       "[('unk', 61019),\n",
       " ('the', 45302),\n",
       " ('of', 25379),\n",
       " ('and', 18067),\n",
       " ('to', 16515),\n",
       " ('a', 14371),\n",
       " ('in', 14231),\n",
       " ('is', 7466),\n",
       " ('that', 6484),\n",
       " ('for', 6434)]"
      ]
     },
     "execution_count": 4,
     "metadata": {},
     "output_type": "execute_result"
    }
   ],
   "source": [
    "# Get top 10 frequent words and counts from train_corpus with basic_tokenizer.\n",
    "basic_tokenizer.countTopWords(train_corpus, k=10)"
   ]
  },
  {
   "cell_type": "code",
   "execution_count": 5,
   "metadata": {
    "colab": {
     "base_uri": "https://localhost:8080/"
    },
    "executionInfo": {
     "elapsed": 13,
     "status": "ok",
     "timestamp": 1711068374377,
     "user": {
      "displayName": "Nguyễn Đức Vũ",
      "userId": "07288779277842550568"
     },
     "user_tz": -420
    },
    "id": "U_199zQ3Rn7Q",
    "outputId": "25cc7e4f-eb98-45a2-f328-4f6eb1f377d4"
   },
   "outputs": [
    {
     "data": {
      "text/plain": [
       "[('unk', 61019),\n",
       " ('the', 45885),\n",
       " ('of', 25427),\n",
       " (',', 23570),\n",
       " ('and', 18346),\n",
       " ('.', 17532),\n",
       " ('to', 16606),\n",
       " ('a', 14721),\n",
       " ('in', 14358),\n",
       " ('is', 7702)]"
      ]
     },
     "execution_count": 5,
     "metadata": {},
     "output_type": "execute_result"
    }
   ],
   "source": [
    "# Get top 10 frequent words and counts from train_corpus_nltk with nltk_tokenizer.\n",
    "nltk_tokenizer.countTopWords(train_corpus_nltk, k=10)"
   ]
  },
  {
   "cell_type": "code",
   "execution_count": 6,
   "metadata": {
    "colab": {
     "base_uri": "https://localhost:8080/"
    },
    "executionInfo": {
     "elapsed": 7622,
     "status": "ok",
     "timestamp": 1711068382544,
     "user": {
      "displayName": "Nguyễn Đức Vũ",
      "userId": "07288779277842550568"
     },
     "user_tz": -420
    },
    "id": "RXk6-XB5KAPS",
    "outputId": "a40640c2-8344-434b-a1b4-f5968db35f9c"
   },
   "outputs": [
    {
     "name": "stderr",
     "output_type": "stream",
     "text": [
      "C:\\Users\\TIEN DOAN\\AppData\\Local\\Temp\\ipykernel_29284\\1239289182.py:88: RuntimeWarning: divide by zero encountered in log\n",
      "  logprob += np.log(self.bi_prob[corpus_indices[i], corpus_indices[i + 1]])\n"
     ]
    },
    {
     "data": {
      "text/plain": [
       "{'train_ppl': 69.87841585436585, 'val_ppl': inf}"
      ]
     },
     "execution_count": 6,
     "metadata": {},
     "output_type": "execute_result"
    }
   ],
   "source": [
    "# Run the language model with the basic tokenizer and without smoothing.\n",
    "runLanguageModel(train_corpus, val_corpus,\n",
    "                 tokenizer=basic_tokenizer)"
   ]
  },
  {
   "cell_type": "code",
   "execution_count": 7,
   "metadata": {
    "colab": {
     "base_uri": "https://localhost:8080/"
    },
    "executionInfo": {
     "elapsed": 5845,
     "status": "ok",
     "timestamp": 1711068388387,
     "user": {
      "displayName": "Nguyễn Đức Vũ",
      "userId": "07288779277842550568"
     },
     "user_tz": -420
    },
    "id": "5oqKIFUwLF83",
    "outputId": "6579fea6-548a-4916-d017-d70f16f3bc3a"
   },
   "outputs": [
    {
     "name": "stderr",
     "output_type": "stream",
     "text": [
      "C:\\Users\\TIEN DOAN\\AppData\\Local\\Temp\\ipykernel_29284\\1239289182.py:88: RuntimeWarning: divide by zero encountered in log\n",
      "  logprob += np.log(self.bi_prob[corpus_indices[i], corpus_indices[i + 1]])\n"
     ]
    },
    {
     "data": {
      "text/plain": [
       "{'train_ppl': 69.68967282823243, 'val_ppl': inf}"
      ]
     },
     "execution_count": 7,
     "metadata": {},
     "output_type": "execute_result"
    }
   ],
   "source": [
    "# Run the language model with the nltk tokenizer and without smoothing.\n",
    "runLanguageModel(train_corpus_nltk, val_corpus_nltk,\n",
    "                 tokenizer=nltk_tokenizer)"
   ]
  },
  {
   "cell_type": "code",
   "execution_count": 8,
   "metadata": {
    "colab": {
     "base_uri": "https://localhost:8080/"
    },
    "executionInfo": {
     "elapsed": 7885,
     "status": "ok",
     "timestamp": 1711068396265,
     "user": {
      "displayName": "Nguyễn Đức Vũ",
      "userId": "07288779277842550568"
     },
     "user_tz": -420
    },
    "id": "d7nLCm62KGh0",
    "outputId": "dc6893e3-4fef-4b8d-8e2b-ad1f7bddd9fc"
   },
   "outputs": [
    {
     "name": "stderr",
     "output_type": "stream",
     "text": [
      "C:\\Users\\TIEN DOAN\\AppData\\Local\\Temp\\ipykernel_29284\\1239289182.py:88: RuntimeWarning: divide by zero encountered in log\n",
      "  logprob += np.log(self.bi_prob[corpus_indices[i], corpus_indices[i + 1]])\n"
     ]
    },
    {
     "data": {
      "text/plain": [
       "{'train_ppl': 74.15014818058779, 'val_ppl': inf}"
      ]
     },
     "execution_count": 8,
     "metadata": {},
     "output_type": "execute_result"
    }
   ],
   "source": [
    "# Run the language model with the basic tokenizer and with smoothing.\n",
    "runLanguageModel(train_corpus, val_corpus,\n",
    "                 tokenizer=basic_tokenizer, smoothing_type='addAlpha', smoothing_param=10e-5)"
   ]
  },
  {
   "cell_type": "code",
   "execution_count": 9,
   "metadata": {
    "colab": {
     "base_uri": "https://localhost:8080/"
    },
    "executionInfo": {
     "elapsed": 5739,
     "status": "ok",
     "timestamp": 1711068402001,
     "user": {
      "displayName": "Nguyễn Đức Vũ",
      "userId": "07288779277842550568"
     },
     "user_tz": -420
    },
    "id": "05AvBa_sK3-b",
    "outputId": "a98d4657-0def-4831-e550-b0b5091ebe1c"
   },
   "outputs": [
    {
     "name": "stderr",
     "output_type": "stream",
     "text": [
      "C:\\Users\\TIEN DOAN\\AppData\\Local\\Temp\\ipykernel_29284\\1239289182.py:88: RuntimeWarning: divide by zero encountered in log\n",
      "  logprob += np.log(self.bi_prob[corpus_indices[i], corpus_indices[i + 1]])\n"
     ]
    },
    {
     "data": {
      "text/plain": [
       "{'train_ppl': 71.60377294949103, 'val_ppl': inf}"
      ]
     },
     "execution_count": 9,
     "metadata": {},
     "output_type": "execute_result"
    }
   ],
   "source": [
    "# Run the language model with the nltk tokenizer and with smoothing.\n",
    "runLanguageModel(train_corpus_nltk, val_corpus_nltk,\n",
    "                 tokenizer=nltk_tokenizer, smoothing_type='addAlpha', smoothing_param=10e-5)"
   ]
  },
  {
   "cell_type": "code",
   "execution_count": null,
   "metadata": {},
   "outputs": [],
   "source": []
  },
  {
   "cell_type": "code",
   "execution_count": null,
   "metadata": {},
   "outputs": [],
   "source": []
  }
 ],
 "metadata": {
  "colab": {
   "provenance": []
  },
  "kernelspec": {
   "display_name": "Python 3 (ipykernel)",
   "language": "python",
   "name": "python3"
  },
  "language_info": {
   "codemirror_mode": {
    "name": "ipython",
    "version": 3
   },
   "file_extension": ".py",
   "mimetype": "text/x-python",
   "name": "python",
   "nbconvert_exporter": "python",
   "pygments_lexer": "ipython3",
   "version": "3.10.9"
  }
 },
 "nbformat": 4,
 "nbformat_minor": 4
}
